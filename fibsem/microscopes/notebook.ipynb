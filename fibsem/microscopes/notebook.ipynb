{
 "cells": [
  {
   "cell_type": "code",
   "execution_count": null,
   "metadata": {},
   "outputs": [],
   "source": [
    "%load_ext autoreload\n",
    "%autoreload 2\n",
    "from fibsem.microscopes.odemis_microscope import OdemisMicroscope\n",
    "from fibsem.structures import FibsemStagePosition\n",
    "\n",
    "from fibsem import utils\n",
    "\n",
    "microscope, settings = utils.setup_session(manufacturer=\"Odemis\")\n",
    "\n",
    "\n",
    "# pip install pylibtiff"
   ]
  },
  {
   "cell_type": "code",
   "execution_count": null,
   "metadata": {},
   "outputs": [],
   "source": [
    "stage_position = microscope.get_stage_position()\n",
    "print('Stage position:', stage_position)"
   ]
  },
  {
   "cell_type": "code",
   "execution_count": null,
   "metadata": {},
   "outputs": [],
   "source": [
    "stage_position = microscope.get_stage_position()\n",
    "print('Stage position:', stage_position)\n",
    "\n",
    "# microscope.move_stage_absolute(FibsemStagePosition(x=0.1, y=0.1, z=0.1, r=0.1, t=0.1))\n",
    "microscope.move_stage_relative(FibsemStagePosition(x=50e-3))\n",
    "stage_position = microscope.get_stage_position()\n",
    "print('Stage position:', stage_position)\n",
    "\n",
    "import time\n",
    "time.sleep(2)\n",
    "\n",
    "microscope.move_stage_absolute(FibsemStagePosition(x=0, y=0, z=0, r=0, t=0))\n",
    "stage_position = microscope.get_stage_position()\n",
    "print('Stage position:', stage_position)"
   ]
  },
  {
   "cell_type": "code",
   "execution_count": null,
   "metadata": {},
   "outputs": [],
   "source": [
    "from fibsem import acquire\n",
    "from fibsem.structures import ImageSettings, BeamType\n",
    "\n",
    "image_settings = ImageSettings(beam_type=BeamType.ELECTRON)\n",
    "print(image_settings.beam_type)\n",
    "image = acquire.acquire_image(microscope, image_settings)\n",
    "\n",
    "%matplotlib inline\n",
    "import matplotlib.pyplot as plt\n",
    "plt.imshow(image.data, cmap='gray')\n",
    "plt.show()"
   ]
  },
  {
   "cell_type": "code",
   "execution_count": null,
   "metadata": {},
   "outputs": [],
   "source": [
    "from fibsem.structures import FibsemRectangleSettings\n",
    "pattern_settings = FibsemRectangleSettings(\n",
    "    centre_x=0, centre_y=0, width=10e-6, height=10e-6, depth=0.5e-6\n",
    ")\n",
    "microscope.draw_rectangle(pattern_settings)\n",
    "\n",
    "# microscope.draw_rectangle({\"center_x\": 0, \"center_y\": 0, \n",
    "#                          \"width\": 10e-6, \"height\": 10e-6, \n",
    "#                          \"depth\": 0.5e-6})"
   ]
  },
  {
   "cell_type": "code",
   "execution_count": null,
   "metadata": {},
   "outputs": [],
   "source": [
    "microscope.finish_milling(0, 0)\n",
    "microscope.estimate_milling_time()\n",
    "# microscope.run_milling(0, 0,  asynch=True)"
   ]
  },
  {
   "cell_type": "code",
   "execution_count": null,
   "metadata": {},
   "outputs": [],
   "source": [
    "from fibsem.structures import PatterningState \n",
    "\n",
    "while microscope.get_milling_state() != PatterningState.IDLE:\n",
    "    print('Milling in progress')\n",
    "    time.sleep(1)\n"
   ]
  },
  {
   "cell_type": "code",
   "execution_count": null,
   "metadata": {},
   "outputs": [],
   "source": [
    "microscope.finish_milling(0, 0)"
   ]
  },
  {
   "cell_type": "code",
   "execution_count": null,
   "metadata": {},
   "outputs": [],
   "source": []
  }
 ],
 "metadata": {
  "kernelspec": {
   "display_name": "autoscript49",
   "language": "python",
   "name": "python3"
  },
  "language_info": {
   "codemirror_mode": {
    "name": "ipython",
    "version": 3
   },
   "file_extension": ".py",
   "mimetype": "text/x-python",
   "name": "python",
   "nbconvert_exporter": "python",
   "pygments_lexer": "ipython3",
   "version": "3.9.18"
  }
 },
 "nbformat": 4,
 "nbformat_minor": 2
}
